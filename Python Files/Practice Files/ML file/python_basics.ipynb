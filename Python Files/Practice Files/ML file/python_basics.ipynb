{
 "cells": [
  {
   "cell_type": "markdown",
   "id": "5a34a622",
   "metadata": {},
   "source": [
    "# Python Basic Operations Practice\n",
    "\n",
    "This notebook contains basic Python programming exercises covering multiplication tables, recursion, string operations, and list manipulations."
   ]
  },
  {
   "cell_type": "markdown",
   "id": "eaaf59e7",
   "metadata": {},
   "source": [
    "## 1. Display Multiplication Table\n",
    "\n",
    "Write a program to display the multiplication table of a given number up to 10."
   ]
  },
  {
   "cell_type": "code",
   "execution_count": null,
   "id": "f652b7b6",
   "metadata": {},
   "outputs": [],
   "source": [
    "# Multiplication table function\n",
    "def multiplication_table(number, limit=10):\n",
    "    print(f\"Multiplication table for {number}:\")\n",
    "    print(\"-\" * 25)\n",
    "    for i in range(1, limit + 1):\n",
    "        result = number * i\n",
    "        print(f\"{number} x {i} = {result}\")\n",
    "\n",
    "# Test the function\n",
    "num = 7\n",
    "multiplication_table(num)"
   ]
  },
  {
   "cell_type": "markdown",
   "id": "5f8799e1",
   "metadata": {},
   "source": [
    "## 2. Factorial with Recursion\n",
    "\n",
    "Calculate the factorial of a number using recursive function."
   ]
  },
  {
   "cell_type": "code",
   "execution_count": null,
   "id": "1f5bfb5c",
   "metadata": {},
   "outputs": [],
   "source": [
    "# Recursive factorial function\n",
    "def factorial_recursive(n):\n",
    "    # Base case\n",
    "    if n == 0 or n == 1:\n",
    "        return 1\n",
    "    else:\n",
    "        # Recursive case\n",
    "        return n * factorial_recursive(n - 1)\n",
    "\n",
    "# Test the function\n",
    "numbers = [5, 6, 8, 10]\n",
    "for num in numbers:\n",
    "    result = factorial_recursive(num)\n",
    "    print(f\"Factorial of {num} = {result}\")"
   ]
  },
  {
   "cell_type": "markdown",
   "id": "83100efd",
   "metadata": {},
   "source": [
    "## 3. Count Vowels in a String\n",
    "\n",
    "Write a function to count the number of vowels in a given string."
   ]
  },
  {
   "cell_type": "code",
   "execution_count": null,
   "id": "30f5427e",
   "metadata": {},
   "outputs": [],
   "source": [
    "# Function to count vowels\n",
    "def count_vowels(text):\n",
    "    vowels = \"aeiouAEIOU\"\n",
    "    count = 0\n",
    "    vowel_list = []\n",
    "    \n",
    "    for char in text:\n",
    "        if char in vowels:\n",
    "            count += 1\n",
    "            vowel_list.append(char)\n",
    "    \n",
    "    return count, vowel_list\n",
    "\n",
    "# Test the function\n",
    "test_strings = [\n",
    "    \"Hello World\",\n",
    "    \"Python Programming\",\n",
    "    \"Data Science and Machine Learning\",\n",
    "    \"Artificial Intelligence\"\n",
    "]\n",
    "\n",
    "for text in test_strings:\n",
    "    count, vowels_found = count_vowels(text)\n",
    "    print(f\"Text: '{text}'\")\n",
    "    print(f\"Vowel count: {count}\")\n",
    "    print(f\"Vowels found: {vowels_found}\")\n",
    "    print(\"-\" * 40)"
   ]
  },
  {
   "cell_type": "markdown",
   "id": "44f5c4df",
   "metadata": {},
   "source": [
    "## 4. Perform Operations on a List\n",
    "\n",
    "Demonstrate various list operations including adding, removing, sorting, and filtering elements."
   ]
  },
  {
   "cell_type": "code",
   "execution_count": null,
   "id": "ac43a34e",
   "metadata": {},
   "outputs": [],
   "source": [
    "# Create a sample list\n",
    "numbers = [12, 45, 7, 23, 56, 89, 34, 67, 8, 90, 15]\n",
    "print(f\"Original list: {numbers}\")\n",
    "print()\n",
    "\n",
    "# 1. Add elements\n",
    "numbers.append(100)\n",
    "numbers.extend([105, 110])\n",
    "print(f\"After adding elements: {numbers}\")\n",
    "\n",
    "# 2. Remove elements\n",
    "numbers.remove(7)  # Remove specific value\n",
    "removed_item = numbers.pop()  # Remove last element\n",
    "print(f\"After removing 7 and last element ({removed_item}): {numbers}\")\n",
    "\n",
    "# 3. Sort the list\n",
    "sorted_asc = sorted(numbers)\n",
    "sorted_desc = sorted(numbers, reverse=True)\n",
    "print(f\"Sorted ascending: {sorted_asc}\")\n",
    "print(f\"Sorted descending: {sorted_desc}\")\n",
    "\n",
    "# 4. Filter operations\n",
    "even_numbers = [num for num in numbers if num % 2 == 0]\n",
    "odd_numbers = [num for num in numbers if num % 2 != 0]\n",
    "numbers_gt_50 = [num for num in numbers if num > 50]\n",
    "\n",
    "print(f\"Even numbers: {even_numbers}\")\n",
    "print(f\"Odd numbers: {odd_numbers}\")\n",
    "print(f\"Numbers greater than 50: {numbers_gt_50}\")\n",
    "\n",
    "# 5. Statistical operations\n",
    "print(f\"\\nList Statistics:\")\n",
    "print(f\"Length: {len(numbers)}\")\n",
    "print(f\"Sum: {sum(numbers)}\")\n",
    "print(f\"Average: {sum(numbers)/len(numbers):.2f}\")\n",
    "print(f\"Maximum: {max(numbers)}\")\n",
    "print(f\"Minimum: {min(numbers)}\")"
   ]
  }
 ],
 "metadata": {
  "language_info": {
   "name": "python"
  }
 },
 "nbformat": 4,
 "nbformat_minor": 5
}
