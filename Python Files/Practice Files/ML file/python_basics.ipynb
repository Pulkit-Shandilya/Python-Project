{
 "cells": [
  {
   "cell_type": "markdown",
   "id": "5a34a622",
   "metadata": {},
   "source": [
    "# Python Basic Operations Practice\n",
    "\n",
    "This notebook contains basic Python programming exercises covering multiplication tables, recursion, string operations, and list manipulations."
   ]
  },
  {
   "cell_type": "markdown",
   "id": "eaaf59e7",
   "metadata": {},
   "source": [
    "## 1. Display Multiplication Table\n",
    "\n",
    "Write a program to display the multiplication table of a given number up to 10."
   ]
  },
  {
   "cell_type": "code",
   "execution_count": 1,
   "id": "f652b7b6",
   "metadata": {},
   "outputs": [
    {
     "name": "stdout",
     "output_type": "stream",
     "text": [
      "Multiplication table for 7:\n",
      "-------------------------\n",
      "7 x 1 = 7\n",
      "7 x 2 = 14\n",
      "7 x 3 = 21\n",
      "7 x 4 = 28\n",
      "7 x 5 = 35\n",
      "7 x 6 = 42\n",
      "7 x 7 = 49\n",
      "7 x 8 = 56\n",
      "7 x 9 = 63\n",
      "7 x 10 = 70\n"
     ]
    }
   ],
   "source": [
    "# Multiplication table function\n",
    "def multiplication_table(number, limit=10):\n",
    "    print(f\"Multiplication table for {number}:\")\n",
    "    print(\"-\" * 25)\n",
    "    for i in range(1, limit + 1):\n",
    "        result = number * i\n",
    "        print(f\"{number} x {i} = {result}\")\n",
    "\n",
    "# Test the function\n",
    "num = 7\n",
    "multiplication_table(num)"
   ]
  },
  {
   "cell_type": "markdown",
   "id": "5f8799e1",
   "metadata": {},
   "source": [
    "## 2. Factorial with Recursion\n",
    "\n",
    "Calculate the factorial of a number using recursive function."
   ]
  },
  {
   "cell_type": "code",
   "execution_count": 2,
   "id": "1f5bfb5c",
   "metadata": {},
   "outputs": [
    {
     "name": "stdout",
     "output_type": "stream",
     "text": [
      "Factorial of 5 = 120\n",
      "Factorial of 6 = 720\n",
      "Factorial of 8 = 40320\n",
      "Factorial of 10 = 3628800\n"
     ]
    }
   ],
   "source": [
    "# Recursive factorial function\n",
    "def factorial_recursive(n):\n",
    "    # Base case\n",
    "    if n == 0 or n == 1:\n",
    "        return 1\n",
    "    else:\n",
    "        # Recursive case\n",
    "        return n * factorial_recursive(n - 1)\n",
    "\n",
    "# Test the function\n",
    "numbers = [5, 6, 8, 10]\n",
    "for num in numbers:\n",
    "    result = factorial_recursive(num)\n",
    "    print(f\"Factorial of {num} = {result}\")"
   ]
  },
  {
   "cell_type": "markdown",
   "id": "83100efd",
   "metadata": {},
   "source": [
    "## 3. Count Vowels in a String\n",
    "\n",
    "Write a function to count the number of vowels in a given string."
   ]
  },
  {
   "cell_type": "code",
   "execution_count": 3,
   "id": "30f5427e",
   "metadata": {},
   "outputs": [
    {
     "name": "stdout",
     "output_type": "stream",
     "text": [
      "Text: 'Hello World'\n",
      "Vowel count: 3\n",
      "Vowels found: ['e', 'o', 'o']\n",
      "----------------------------------------\n",
      "Text: 'Python Programming'\n",
      "Vowel count: 4\n",
      "Vowels found: ['o', 'o', 'a', 'i']\n",
      "----------------------------------------\n",
      "Text: 'Data Science and Machine Learning'\n",
      "Vowel count: 12\n",
      "Vowels found: ['a', 'a', 'i', 'e', 'e', 'a', 'a', 'i', 'e', 'e', 'a', 'i']\n",
      "----------------------------------------\n",
      "Text: 'Artificial Intelligence'\n",
      "Vowel count: 10\n",
      "Vowels found: ['A', 'i', 'i', 'i', 'a', 'I', 'e', 'i', 'e', 'e']\n",
      "----------------------------------------\n"
     ]
    }
   ],
   "source": [
    "# Function to count vowels\n",
    "def count_vowels(text):\n",
    "    vowels = \"aeiouAEIOU\"\n",
    "    count = 0\n",
    "    vowel_list = []\n",
    "    \n",
    "    for char in text:\n",
    "        if char in vowels:\n",
    "            count += 1\n",
    "            vowel_list.append(char)\n",
    "    \n",
    "    return count, vowel_list\n",
    "\n",
    "# Test the function\n",
    "test_strings = [\n",
    "    \"Hello World\",\n",
    "    \"Python Programming\",\n",
    "    \"Data Science and Machine Learning\",\n",
    "    \"Artificial Intelligence\"\n",
    "]\n",
    "\n",
    "for text in test_strings:\n",
    "    count, vowels_found = count_vowels(text)\n",
    "    print(f\"Text: '{text}'\")\n",
    "    print(f\"Vowel count: {count}\")\n",
    "    print(f\"Vowels found: {vowels_found}\")\n",
    "    print(\"-\" * 40)"
   ]
  },
  {
   "cell_type": "markdown",
   "id": "44f5c4df",
   "metadata": {},
   "source": [
    "## 4. Perform Operations on a List\n",
    "\n",
    "Demonstrate various list operations including adding, removing, sorting, and filtering elements."
   ]
  },
  {
   "cell_type": "code",
   "execution_count": 4,
   "id": "ac43a34e",
   "metadata": {},
   "outputs": [
    {
     "name": "stdout",
     "output_type": "stream",
     "text": [
      "Original list: [12, 45, 7, 23, 56, 89, 34, 67, 8, 90, 15]\n",
      "\n",
      "After adding elements: [12, 45, 7, 23, 56, 89, 34, 67, 8, 90, 15, 100, 105, 110]\n",
      "After removing 7 and last element (110): [12, 45, 23, 56, 89, 34, 67, 8, 90, 15, 100, 105]\n",
      "Sorted ascending: [8, 12, 15, 23, 34, 45, 56, 67, 89, 90, 100, 105]\n",
      "Sorted descending: [105, 100, 90, 89, 67, 56, 45, 34, 23, 15, 12, 8]\n",
      "Even numbers: [12, 56, 34, 8, 90, 100]\n",
      "Odd numbers: [45, 23, 89, 67, 15, 105]\n",
      "Numbers greater than 50: [56, 89, 67, 90, 100, 105]\n",
      "\n",
      "List Statistics:\n",
      "Length: 12\n",
      "Sum: 644\n",
      "Average: 53.67\n",
      "Maximum: 105\n",
      "Minimum: 8\n"
     ]
    }
   ],
   "source": [
    "# Create a sample list\n",
    "numbers = [12, 45, 7, 23, 56, 89, 34, 67, 8, 90, 15]\n",
    "print(f\"Original list: {numbers}\")\n",
    "print()\n",
    "\n",
    "# 1. Add elements\n",
    "numbers.append(100)\n",
    "numbers.extend([105, 110])\n",
    "print(f\"After adding elements: {numbers}\")\n",
    "\n",
    "# 2. Remove elements\n",
    "numbers.remove(7)  # Remove specific value\n",
    "removed_item = numbers.pop()  # Remove last element\n",
    "print(f\"After removing 7 and last element ({removed_item}): {numbers}\")\n",
    "\n",
    "# 3. Sort the list\n",
    "sorted_asc = sorted(numbers)\n",
    "sorted_desc = sorted(numbers, reverse=True)\n",
    "print(f\"Sorted ascending: {sorted_asc}\")\n",
    "print(f\"Sorted descending: {sorted_desc}\")\n",
    "\n",
    "# 4. Filter operations\n",
    "even_numbers = [num for num in numbers if num % 2 == 0]\n",
    "odd_numbers = [num for num in numbers if num % 2 != 0]\n",
    "numbers_gt_50 = [num for num in numbers if num > 50]\n",
    "\n",
    "print(f\"Even numbers: {even_numbers}\")\n",
    "print(f\"Odd numbers: {odd_numbers}\")\n",
    "print(f\"Numbers greater than 50: {numbers_gt_50}\")\n",
    "\n",
    "# 5. Statistical operations\n",
    "print(f\"\\nList Statistics:\")\n",
    "print(f\"Length: {len(numbers)}\")\n",
    "print(f\"Sum: {sum(numbers)}\")\n",
    "print(f\"Average: {sum(numbers)/len(numbers):.2f}\")\n",
    "print(f\"Maximum: {max(numbers)}\")\n",
    "print(f\"Minimum: {min(numbers)}\")"
   ]
  }
 ],
 "metadata": {
  "kernelspec": {
   "display_name": "Python 3",
   "language": "python",
   "name": "python3"
  },
  "language_info": {
   "codemirror_mode": {
    "name": "ipython",
    "version": 3
   },
   "file_extension": ".py",
   "mimetype": "text/x-python",
   "name": "python",
   "nbconvert_exporter": "python",
   "pygments_lexer": "ipython3",
   "version": "3.10.5"
  }
 },
 "nbformat": 4,
 "nbformat_minor": 5
}
