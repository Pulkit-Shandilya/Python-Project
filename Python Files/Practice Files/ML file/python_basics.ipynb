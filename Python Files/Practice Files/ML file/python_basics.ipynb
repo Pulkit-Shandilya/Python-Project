{
 "cells": [
  {
   "cell_type": "markdown",
   "id": "5a34a622",
   "metadata": {},
   "source": [
    "# Python Basic Operations Practice\n",
    "\n",
    "This notebook contains basic Python programming exercises covering multiplication tables, recursion, string operations, and list manipulations."
   ]
  },
  {
   "cell_type": "markdown",
   "id": "eaaf59e7",
   "metadata": {},
   "source": [
    "## 1. Display Multiplication Table\n",
    "\n",
    "Write a program to display the multiplication table of a given number up to 10."
   ]
  },
  {
   "cell_type": "code",
   "execution_count": 1,
   "id": "f652b7b6",
   "metadata": {},
   "outputs": [
    {
     "name": "stdout",
     "output_type": "stream",
     "text": [
      "Multiplication table for 7:\n",
      "-------------------------\n",
      "7 x 1 = 7\n",
      "7 x 2 = 14\n",
      "7 x 3 = 21\n",
      "7 x 4 = 28\n",
      "7 x 5 = 35\n",
      "7 x 6 = 42\n",
      "7 x 7 = 49\n",
      "7 x 8 = 56\n",
      "7 x 9 = 63\n",
      "7 x 10 = 70\n"
     ]
    }
   ],
   "source": [
    "# Multiplication table function\n",
    "def multiplication_table(number, limit=10):\n",
    "    print(f\"Multiplication table for {number}:\")\n",
    "    print(\"-\" * 25)\n",
    "    for i in range(1, limit + 1):\n",
    "        result = number * i\n",
    "        print(f\"{number} x {i} = {result}\")\n",
    "\n",
    "# Test the function\n",
    "num = 7\n",
    "multiplication_table(num)"
   ]
  },
  {
   "cell_type": "markdown",
   "id": "5f8799e1",
   "metadata": {},
   "source": [
    "## 2. Factorial with Recursion\n",
    "\n",
    "Calculate the factorial of a number using recursive function."
   ]
  },
  {
   "cell_type": "code",
   "execution_count": 2,
   "id": "1f5bfb5c",
   "metadata": {},
   "outputs": [
    {
     "name": "stdout",
     "output_type": "stream",
     "text": [
      "Factorial of 5 = 120\n",
      "Factorial of 6 = 720\n",
      "Factorial of 8 = 40320\n",
      "Factorial of 10 = 3628800\n"
     ]
    }
   ],
   "source": [
    "# Recursive factorial function\n",
    "def factorial_recursive(n):\n",
    "    # Base case\n",
    "    if n == 0 or n == 1:\n",
    "        return 1\n",
    "    else:\n",
    "        # Recursive case\n",
    "        return n * factorial_recursive(n - 1)\n",
    "\n",
    "# Test the function\n",
    "numbers = [5, 6, 8, 10]\n",
    "for num in numbers:\n",
    "    result = factorial_recursive(num)\n",
    "    print(f\"Factorial of {num} = {result}\")"
   ]
  },
  {
   "cell_type": "markdown",
   "id": "83100efd",
   "metadata": {},
   "source": [
    "## 3. Count Vowels in a String\n",
    "\n",
    "Write a function to count the number of vowels in a given string."
   ]
  },
  {
   "cell_type": "code",
   "execution_count": 3,
   "id": "30f5427e",
   "metadata": {},
   "outputs": [
    {
     "name": "stdout",
     "output_type": "stream",
     "text": [
      "Text: 'Hello World'\n",
      "Vowel count: 3\n",
      "Vowels found: ['e', 'o', 'o']\n",
      "----------------------------------------\n",
      "Text: 'Python Programming'\n",
      "Vowel count: 4\n",
      "Vowels found: ['o', 'o', 'a', 'i']\n",
      "----------------------------------------\n",
      "Text: 'Data Science and Machine Learning'\n",
      "Vowel count: 12\n",
      "Vowels found: ['a', 'a', 'i', 'e', 'e', 'a', 'a', 'i', 'e', 'e', 'a', 'i']\n",
      "----------------------------------------\n",
      "Text: 'Artificial Intelligence'\n",
      "Vowel count: 10\n",
      "Vowels found: ['A', 'i', 'i', 'i', 'a', 'I', 'e', 'i', 'e', 'e']\n",
      "----------------------------------------\n"
     ]
    }
   ],
   "source": [
    "# Function to count vowels\n",
    "def count_vowels(text):\n",
    "    vowels = \"aeiouAEIOU\"\n",
    "    count = 0\n",
    "    vowel_list = []\n",
    "    \n",
    "    for char in text:\n",
    "        if char in vowels:\n",
    "            count += 1\n",
    "            vowel_list.append(char)\n",
    "    \n",
    "    return count, vowel_list\n",
    "\n",
    "# Test the function\n",
    "test_strings = [\n",
    "    \"Hello World\",\n",
    "    \"Python Programming\",\n",
    "    \"Data Science and Machine Learning\",\n",
    "    \"Artificial Intelligence\"\n",
    "]\n",
    "\n",
    "for text in test_strings:\n",
    "    count, vowels_found = count_vowels(text)\n",
    "    print(f\"Text: '{text}'\")\n",
    "    print(f\"Vowel count: {count}\")\n",
    "    print(f\"Vowels found: {vowels_found}\")\n",
    "    print(\"-\" * 40)"
   ]
  },
  {
   "cell_type": "markdown",
   "id": "44f5c4df",
   "metadata": {},
   "source": [
    "## 4. Perform Operations on a List\n",
    "\n",
    "Demonstrate various list operations including adding, removing, sorting, and filtering elements."
   ]
  },
  {
   "cell_type": "code",
   "execution_count": 4,
   "id": "ac43a34e",
   "metadata": {},
   "outputs": [
    {
     "name": "stdout",
     "output_type": "stream",
     "text": [
      "Original list: [12, 45, 7, 23, 56, 89, 34, 67, 8, 90, 15]\n",
      "\n",
      "After adding elements: [12, 45, 7, 23, 56, 89, 34, 67, 8, 90, 15, 100, 105, 110]\n",
      "After removing 7 and last element (110): [12, 45, 23, 56, 89, 34, 67, 8, 90, 15, 100, 105]\n",
      "Sorted ascending: [8, 12, 15, 23, 34, 45, 56, 67, 89, 90, 100, 105]\n",
      "Sorted descending: [105, 100, 90, 89, 67, 56, 45, 34, 23, 15, 12, 8]\n",
      "Even numbers: [12, 56, 34, 8, 90, 100]\n",
      "Odd numbers: [45, 23, 89, 67, 15, 105]\n",
      "Numbers greater than 50: [56, 89, 67, 90, 100, 105]\n",
      "\n",
      "List Statistics:\n",
      "Length: 12\n",
      "Sum: 644\n",
      "Average: 53.67\n",
      "Maximum: 105\n",
      "Minimum: 8\n"
     ]
    }
   ],
   "source": [
    "# Create a sample list\n",
    "numbers = [12, 45, 7, 23, 56, 89, 34, 67, 8, 90, 15]\n",
    "print(f\"Original list: {numbers}\")\n",
    "print()\n",
    "\n",
    "# 1. Add elements\n",
    "numbers.append(100)\n",
    "numbers.extend([105, 110])\n",
    "print(f\"After adding elements: {numbers}\")\n",
    "\n",
    "# 2. Remove elements\n",
    "numbers.remove(7)  # Remove specific value\n",
    "removed_item = numbers.pop()  # Remove last element\n",
    "print(f\"After removing 7 and last element ({removed_item}): {numbers}\")\n",
    "\n",
    "# 3. Sort the list\n",
    "sorted_asc = sorted(numbers)\n",
    "sorted_desc = sorted(numbers, reverse=True)\n",
    "print(f\"Sorted ascending: {sorted_asc}\")\n",
    "print(f\"Sorted descending: {sorted_desc}\")\n",
    "\n",
    "# 4. Filter operations\n",
    "even_numbers = [num for num in numbers if num % 2 == 0]\n",
    "odd_numbers = [num for num in numbers if num % 2 != 0]\n",
    "numbers_gt_50 = [num for num in numbers if num > 50]\n",
    "\n",
    "print(f\"Even numbers: {even_numbers}\")\n",
    "print(f\"Odd numbers: {odd_numbers}\")\n",
    "print(f\"Numbers greater than 50: {numbers_gt_50}\")\n",
    "\n",
    "# 5. Statistical operations\n",
    "print(f\"\\nList Statistics:\")\n",
    "print(f\"Length: {len(numbers)}\")\n",
    "print(f\"Sum: {sum(numbers)}\")\n",
    "print(f\"Average: {sum(numbers)/len(numbers):.2f}\")\n",
    "print(f\"Maximum: {max(numbers)}\")\n",
    "print(f\"Minimum: {min(numbers)}\")"
   ]
  },
  {
   "cell_type": "markdown",
   "id": "8d2c333e",
   "metadata": {},
   "source": [
    "## 5. Check Prime Numbers\n",
    "\n",
    "Write a function to check if a number is prime and find all prime numbers within a given range."
   ]
  },
  {
   "cell_type": "code",
   "execution_count": 5,
   "id": "80f842bc",
   "metadata": {},
   "outputs": [
    {
     "name": "stdout",
     "output_type": "stream",
     "text": [
      "Prime number checks:\n",
      "2 is prime\n",
      "17 is prime\n",
      "25 is not prime\n",
      "29 is prime\n",
      "31 is prime\n",
      "49 is not prime\n",
      "53 is prime\n",
      "97 is prime\n",
      "100 is not prime\n",
      "\n",
      "========================================\n",
      "Prime numbers between 1 and 20: [2, 3, 5, 7, 11, 13, 17, 19]\n",
      "Count: 8\n",
      "------------------------------\n",
      "Prime numbers between 50 and 70: [53, 59, 61, 67]\n",
      "Count: 4\n",
      "------------------------------\n",
      "Prime numbers between 90 and 110: [97, 101, 103, 107, 109]\n",
      "Count: 5\n",
      "------------------------------\n"
     ]
    }
   ],
   "source": [
    "# Function to check if a number is prime\n",
    "def is_prime(n):\n",
    "    if n < 2:\n",
    "        return False\n",
    "    if n == 2:\n",
    "        return True\n",
    "    if n % 2 == 0:\n",
    "        return False\n",
    "    \n",
    "    # Check odd divisors up to sqrt(n)\n",
    "    for i in range(3, int(n**0.5) + 1, 2):\n",
    "        if n % i == 0:\n",
    "            return False\n",
    "    return True\n",
    "\n",
    "# Function to find all prime numbers in a range\n",
    "def find_primes_in_range(start, end):\n",
    "    primes = []\n",
    "    for num in range(start, end + 1):\n",
    "        if is_prime(num):\n",
    "            primes.append(num)\n",
    "    return primes\n",
    "\n",
    "# Test individual numbers\n",
    "test_numbers = [2, 17, 25, 29, 31, 49, 53, 97, 100]\n",
    "print(\"Prime number checks:\")\n",
    "for num in test_numbers:\n",
    "    result = is_prime(num)\n",
    "    print(f\"{num} is {'prime' if result else 'not prime'}\")\n",
    "\n",
    "print(\"\\n\" + \"=\"*40)\n",
    "\n",
    "# Find primes in ranges\n",
    "ranges = [(1, 20), (50, 70), (90, 110)]\n",
    "for start, end in ranges:\n",
    "    primes = find_primes_in_range(start, end)\n",
    "    print(f\"Prime numbers between {start} and {end}: {primes}\")\n",
    "    print(f\"Count: {len(primes)}\")\n",
    "    print(\"-\" * 30)"
   ]
  },
  {
   "cell_type": "markdown",
   "id": "d9cca4fc",
   "metadata": {},
   "source": [
    "## 6. Dictionary Operations and Student Grade Management\n",
    "\n",
    "Create a student grade management system using dictionaries to demonstrate various dictionary operations."
   ]
  },
  {
   "cell_type": "code",
   "execution_count": 6,
   "id": "e0b1ae8d",
   "metadata": {},
   "outputs": [
    {
     "name": "stdout",
     "output_type": "stream",
     "text": [
      "Original Student Data:\n",
      "Alice: {'Math': 85, 'Science': 92, 'English': 78}\n",
      "Bob: {'Math': 92, 'Science': 87, 'English': 84}\n",
      "Charlie: {'Math': 78, 'Science': 90, 'English': 88}\n",
      "Diana: {'Math': 95, 'Science': 89, 'English': 91}\n",
      "\n",
      "After adding Eve:\n",
      "Eve: {'Math': 88, 'Science': 85, 'English': 90}\n",
      "\n",
      "After updates:\n",
      "Alice: {'Math': 85, 'Science': 92, 'English': 78, 'History': 82}\n",
      "Bob: {'Math': 95, 'Science': 87, 'English': 84}\n",
      "\n",
      "Student Averages:\n",
      "Alice: 84.25\n",
      "Bob: 88.67\n",
      "Charlie: 85.33\n",
      "Diana: 91.67\n",
      "Eve: 87.67\n",
      "\n",
      "Subject Averages:\n",
      "Science: 88.60\n",
      "History: 82.00\n",
      "Math: 88.20\n",
      "English: 86.20\n",
      "\n",
      "Top Overall Student: Diana (Average: 91.67)\n",
      "\n",
      "Top Performers by Subject:\n",
      "English: Diana (91)\n",
      "History: Alice (82)\n",
      "Math: Bob (95)\n",
      "Science: Alice (92)\n",
      "\n",
      "Dictionary Comprehensions:\n",
      "High performers (>85 average): {'Bob': 88.67, 'Charlie': 85.33, 'Diana': 91.67, 'Eve': 87.67}\n",
      "Math grades: {'Alice': 85, 'Bob': 95, 'Charlie': 78, 'Diana': 95, 'Eve': 88}\n"
     ]
    }
   ],
   "source": [
    "# Student Grade Management System using dictionaries\n",
    "students = {\n",
    "    \"Alice\": {\"Math\": 85, \"Science\": 92, \"English\": 78},\n",
    "    \"Bob\": {\"Math\": 92, \"Science\": 87, \"English\": 84},\n",
    "    \"Charlie\": {\"Math\": 78, \"Science\": 90, \"English\": 88},\n",
    "    \"Diana\": {\"Math\": 95, \"Science\": 89, \"English\": 91}\n",
    "}\n",
    "\n",
    "print(\"Original Student Data:\")\n",
    "for student, grades in students.items():\n",
    "    print(f\"{student}: {grades}\")\n",
    "print()\n",
    "\n",
    "# 1. Add a new student\n",
    "students[\"Eve\"] = {\"Math\": 88, \"Science\": 85, \"English\": 90}\n",
    "print(\"After adding Eve:\")\n",
    "print(f\"Eve: {students['Eve']}\")\n",
    "print()\n",
    "\n",
    "# 2. Update grades for an existing student\n",
    "students[\"Alice\"][\"History\"] = 82  # Add new subject\n",
    "students[\"Bob\"][\"Math\"] = 95      # Update existing grade\n",
    "print(\"After updates:\")\n",
    "print(f\"Alice: {students['Alice']}\")\n",
    "print(f\"Bob: {students['Bob']}\")\n",
    "print()\n",
    "\n",
    "# 3. Calculate average grade for each student\n",
    "print(\"Student Averages:\")\n",
    "student_averages = {}\n",
    "for student, grades in students.items():\n",
    "    average = sum(grades.values()) / len(grades.values())\n",
    "    student_averages[student] = round(average, 2)\n",
    "    print(f\"{student}: {average:.2f}\")\n",
    "print()\n",
    "\n",
    "# 4. Find subject averages\n",
    "subjects = set()\n",
    "for grades in students.values():\n",
    "    subjects.update(grades.keys())\n",
    "\n",
    "print(\"Subject Averages:\")\n",
    "for subject in subjects:\n",
    "    total = 0\n",
    "    count = 0\n",
    "    for student, grades in students.items():\n",
    "        if subject in grades:\n",
    "            total += grades[subject]\n",
    "            count += 1\n",
    "    if count > 0:\n",
    "        average = total / count\n",
    "        print(f\"{subject}: {average:.2f}\")\n",
    "print()\n",
    "\n",
    "# 5. Find top student and top performer in each subject\n",
    "top_student = max(student_averages, key=student_averages.get)\n",
    "print(f\"Top Overall Student: {top_student} (Average: {student_averages[top_student]})\")\n",
    "print()\n",
    "\n",
    "print(\"Top Performers by Subject:\")\n",
    "for subject in sorted(subjects):\n",
    "    best_grade = 0\n",
    "    best_student = \"\"\n",
    "    for student, grades in students.items():\n",
    "        if subject in grades and grades[subject] > best_grade:\n",
    "            best_grade = grades[subject]\n",
    "            best_student = student\n",
    "    if best_student:\n",
    "        print(f\"{subject}: {best_student} ({best_grade})\")\n",
    "\n",
    "# 6. Dictionary comprehension examples\n",
    "print(\"\\nDictionary Comprehensions:\")\n",
    "# Students with average above 85\n",
    "high_performers = {student: avg for student, avg in student_averages.items() if avg > 85}\n",
    "print(f\"High performers (>85 average): {high_performers}\")\n",
    "\n",
    "# Math grades only\n",
    "math_grades = {student: grades[\"Math\"] for student, grades in students.items() if \"Math\" in grades}\n",
    "print(f\"Math grades: {math_grades}\")"
   ]
  }
 ],
 "metadata": {
  "kernelspec": {
   "display_name": "Python 3",
   "language": "python",
   "name": "python3"
  },
  "language_info": {
   "codemirror_mode": {
    "name": "ipython",
    "version": 3
   },
   "file_extension": ".py",
   "mimetype": "text/x-python",
   "name": "python",
   "nbconvert_exporter": "python",
   "pygments_lexer": "ipython3",
   "version": "3.10.5"
  }
 },
 "nbformat": 4,
 "nbformat_minor": 5
}
