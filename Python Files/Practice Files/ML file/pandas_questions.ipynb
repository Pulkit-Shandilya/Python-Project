{
 "cells": [
  {
   "cell_type": "markdown",
   "id": "26386e4f",
   "metadata": {},
   "source": [
    "# Pandas Practice Questions\n",
    "\n",
    "This notebook covers essential pandas operations including data loading, filtering, grouping, handling missing values, and data manipulation."
   ]
  },
  {
   "cell_type": "code",
   "execution_count": null,
   "id": "255cf0f6",
   "metadata": {},
   "outputs": [],
   "source": [
    "# Import required libraries\n",
    "import pandas as pd\n",
    "import numpy as np\n",
    "import matplotlib.pyplot as plt\n",
    "import seaborn as sns\n",
    "\n",
    "# Create sample data for demonstration\n",
    "np.random.seed(42)\n",
    "data = {\n",
    "    'Name': ['Alice', 'Bob', 'Charlie', 'Diana', 'Eve', 'Frank', 'Grace', 'Henry', 'Ivy', 'Jack'],\n",
    "    'Age': [25, 30, 35, 28, 32, 29, 27, 31, 26, 33],\n",
    "    'Salary': [50000, 60000, 70000, 55000, 65000, np.nan, 58000, 72000, 52000, 68000],\n",
    "    'Department': ['IT', 'HR', 'IT', 'Finance', 'IT', 'HR', 'Finance', 'IT', 'HR', 'Finance'],\n",
    "    'Experience': [2, 5, 8, 3, 6, 4, 2, 7, 1, 9],\n",
    "    'Performance_Score': [85, 92, 88, 90, 87, 89, np.nan, 94, 86, 91]\n",
    "}\n",
    "\n",
    "df = pd.DataFrame(data)\n",
    "print(\"Sample dataset created successfully!\")"
   ]
  },
  {
   "cell_type": "markdown",
   "id": "4bf981bc",
   "metadata": {},
   "source": [
    "## 1. Load Dataset and Display First Rows\n",
    "\n",
    "Load a dataset and display the first few rows along with basic information about the dataset."
   ]
  },
  {
   "cell_type": "code",
   "execution_count": null,
   "id": "9c651f13",
   "metadata": {},
   "outputs": [],
   "source": [
    "# Display basic information about the dataset\n",
    "print(\"Dataset Shape:\", df.shape)\n",
    "print(\"\\nColumn Names:\")\n",
    "print(df.columns.tolist())\n",
    "print(\"\\nData Types:\")\n",
    "print(df.dtypes)\n",
    "print(\"\\nFirst 5 rows:\")\n",
    "print(df.head())\n",
    "print(\"\\nDataset Info:\")\n",
    "print(df.info())\n",
    "print(\"\\nBasic Statistics:\")\n",
    "print(df.describe())"
   ]
  },
  {
   "cell_type": "markdown",
   "id": "43854c99",
   "metadata": {},
   "source": [
    "## 2. Filter Rows and Show Specific Columns\n",
    "\n",
    "Filter the dataset based on certain conditions and display specific columns."
   ]
  },
  {
   "cell_type": "code",
   "execution_count": null,
   "id": "df88aef2",
   "metadata": {},
   "outputs": [],
   "source": [
    "# Filter employees with age > 30\n",
    "print(\"Employees with age > 30:\")\n",
    "filtered_age = df[df['Age'] > 30]\n",
    "print(filtered_age[['Name', 'Age', 'Department']])\n",
    "print()\n",
    "\n",
    "# Filter IT department employees\n",
    "print(\"IT Department employees:\")\n",
    "it_employees = df[df['Department'] == 'IT']\n",
    "print(it_employees[['Name', 'Salary', 'Experience']])\n",
    "print()\n",
    "\n",
    "# Multiple conditions: IT employees with experience > 5\n",
    "print(\"IT employees with experience > 5 years:\")\n",
    "experienced_it = df[(df['Department'] == 'IT') & (df['Experience'] > 5)]\n",
    "print(experienced_it[['Name', 'Age', 'Experience', 'Salary']])\n",
    "print()\n",
    "\n",
    "# Filter by salary range (excluding NaN values)\n",
    "print(\"Employees with salary between 55000 and 70000:\")\n",
    "salary_range = df[(df['Salary'] >= 55000) & (df['Salary'] <= 70000)]\n",
    "print(salary_range[['Name', 'Salary', 'Department']])"
   ]
  },
  {
   "cell_type": "markdown",
   "id": "2f01eaeb",
   "metadata": {},
   "source": [
    "## 3. Group by Target and Calculate Means\n",
    "\n",
    "Group the data by department and calculate mean values for numerical columns."
   ]
  },
  {
   "cell_type": "code",
   "execution_count": null,
   "id": "6502df09",
   "metadata": {},
   "outputs": [],
   "source": [
    "# Group by Department and calculate means\n",
    "print(\"Mean values by Department:\")\n",
    "dept_means = df.groupby('Department').mean(numeric_only=True)\n",
    "print(dept_means)\n",
    "print()\n",
    "\n",
    "# More detailed groupby analysis\n",
    "print(\"Detailed statistics by Department:\")\n",
    "dept_stats = df.groupby('Department').agg({\n",
    "    'Age': ['mean', 'min', 'max'],\n",
    "    'Salary': ['mean', 'median', 'count'],\n",
    "    'Experience': ['mean', 'std'],\n",
    "    'Performance_Score': ['mean', 'count']\n",
    "})\n",
    "print(dept_stats)\n",
    "print()\n",
    "\n",
    "# Group by multiple columns\n",
    "print(\"Average salary by Department and Experience level:\")\n",
    "df['Experience_Level'] = df['Experience'].apply(lambda x: 'Junior' if x <= 3 else 'Senior')\n",
    "multi_group = df.groupby(['Department', 'Experience_Level'])['Salary'].mean()\n",
    "print(multi_group)"
   ]
  },
  {
   "cell_type": "markdown",
   "id": "0bcb3cca",
   "metadata": {},
   "source": [
    "## 4. Handle Missing Values\n",
    "\n",
    "Identify and handle missing values in the dataset using various strategies."
   ]
  },
  {
   "cell_type": "code",
   "execution_count": null,
   "id": "3efe7ecf",
   "metadata": {},
   "outputs": [],
   "source": [
    "# Check for missing values\n",
    "print(\"Missing values in each column:\")\n",
    "print(df.isnull().sum())\n",
    "print()\n",
    "\n",
    "print(\"Percentage of missing values:\")\n",
    "missing_percent = (df.isnull().sum() / len(df)) * 100\n",
    "print(missing_percent)\n",
    "print()\n",
    "\n",
    "# Display rows with missing values\n",
    "print(\"Rows with missing values:\")\n",
    "rows_with_missing = df[df.isnull().any(axis=1)]\n",
    "print(rows_with_missing)\n",
    "print()\n",
    "\n",
    "# Create a copy for handling missing values\n",
    "df_cleaned = df.copy()\n",
    "\n",
    "# Strategy 1: Fill missing salary with mean\n",
    "mean_salary = df_cleaned['Salary'].mean()\n",
    "df_cleaned['Salary'].fillna(mean_salary, inplace=True)\n",
    "\n",
    "# Strategy 2: Fill missing performance score with median\n",
    "median_performance = df_cleaned['Performance_Score'].median()\n",
    "df_cleaned['Performance_Score'].fillna(median_performance, inplace=True)\n",
    "\n",
    "print(\"After handling missing values:\")\n",
    "print(df_cleaned.isnull().sum())\n",
    "print(\"\\nCleaned dataset:\")\n",
    "print(df_cleaned)"
   ]
  },
  {
   "cell_type": "markdown",
   "id": "3312fda4",
   "metadata": {},
   "source": [
    "## 5. Create New Column and Find Top 3 Values\n",
    "\n",
    "Create new calculated columns and identify top performers in the dataset."
   ]
  },
  {
   "cell_type": "code",
   "execution_count": null,
   "id": "53393c76",
   "metadata": {},
   "outputs": [],
   "source": [
    "# Create new columns\n",
    "df_final = df_cleaned.copy()\n",
    "\n",
    "# 1. Salary per year of experience\n",
    "df_final['Salary_per_Experience'] = df_final['Salary'] / df_final['Experience']\n",
    "\n",
    "# 2. Performance category\n",
    "df_final['Performance_Category'] = df_final['Performance_Score'].apply(\n",
    "    lambda x: 'Excellent' if x >= 90 else 'Good' if x >= 85 else 'Average'\n",
    ")\n",
    "\n",
    "# 3. Total score (weighted combination)\n",
    "df_final['Total_Score'] = (df_final['Performance_Score'] * 0.6) + (df_final['Experience'] * 5) + (df_final['Age'] * 0.5)\n",
    "\n",
    "print(\"Dataset with new columns:\")\n",
    "print(df_final[['Name', 'Salary_per_Experience', 'Performance_Category', 'Total_Score']].head())\n",
    "print()\n",
    "\n",
    "# Find top 3 employees by different criteria\n",
    "print(\"Top 3 employees by Salary:\")\n",
    "top_salary = df_final.nlargest(3, 'Salary')[['Name', 'Salary', 'Department']]\n",
    "print(top_salary)\n",
    "print()\n",
    "\n",
    "print(\"Top 3 employees by Performance Score:\")\n",
    "top_performance = df_final.nlargest(3, 'Performance_Score')[['Name', 'Performance_Score', 'Department']]\n",
    "print(top_performance)\n",
    "print()\n",
    "\n",
    "print(\"Top 3 employees by Total Score:\")\n",
    "top_total = df_final.nlargest(3, 'Total_Score')[['Name', 'Total_Score', 'Performance_Category']]\n",
    "print(top_total)\n",
    "print()\n",
    "\n",
    "print(\"Top 3 employees by Salary per Experience:\")\n",
    "top_efficiency = df_final.nlargest(3, 'Salary_per_Experience')[['Name', 'Salary_per_Experience', 'Experience']]\n",
    "print(top_efficiency)"
   ]
  }
 ],
 "metadata": {
  "language_info": {
   "name": "python"
  }
 },
 "nbformat": 4,
 "nbformat_minor": 5
}
